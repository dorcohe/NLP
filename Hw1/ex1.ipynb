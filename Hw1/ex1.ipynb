{
  "cells": [
    {
      "metadata": {
        "collapsed": true
      },
      "cell_type": "markdown",
      "source": "# Homework Assiagment 1 - NLP\n\n## Dor Cohen 302577820"
    },
    {
      "metadata": {},
      "cell_type": "markdown",
      "source": "### Part 1: \n\nWrite a function lm that generates a language model\tover characters from a textual corpus.\t"
    },
    {
      "metadata": {
        "trusted": true
      },
      "cell_type": "code",
      "source": "## here we import staff\nfrom itertools import groupby\nfrom numpy import log2",
      "execution_count": 1,
      "outputs": []
    },
    {
      "metadata": {
        "trusted": true
      },
      "cell_type": "code",
      "source": "#### Helpers methods\ndef n_grams_characters(text, n):\n    return [text[i:i+n] for i in range(len(text)-n+1)]\n\ndef get_ngrams_dic(grams):\n    dic = {}\n    for g in grams:\n        if g in dic:\n            dic[g] = dic[g] + 1\n        else:\n            dic[g] = 1\n    return dic\n\ndef write_values_to_file(f, grams_dic, n, prefix_grams_dic={}, total=0):\n    if (n==1):\n        f.write(\"<unk>\" +'\\t' + str(log2(1/(total+len(grams_dic)))) + '\\n') #bounus \n        for k,v in grams_dic.items():\n            f.write(str(k) +'\\t'+ str(log2((v+1)/(total+len(grams_dic)))) + '\\n')\n        return\n    for k,v in grams_dic.items():\n        f.write(str(k) +'\\t'+ str(log2(v/prefix_grams_dic[k[0:n-1]])) + '\\n')\n    \n        \n",
      "execution_count": 2,
      "outputs": []
    },
    {
      "metadata": {
        "trusted": true
      },
      "cell_type": "code",
      "source": "#The requsted method\ndef lm(corpus_file, model_file):\n    with open(corpus_file, 'r') as f:\n        corpus = f.read().lower()\n        grams3 = n_grams_characters(corpus, 3)\n        grams2 = n_grams_characters(corpus, 2)\n        grams1 = n_grams_characters(corpus, 1)\n        grams1Dic = get_ngrams_dic(grams1)\n        grams2Dic = get_ngrams_dic(grams2)\n        grams3Dic = get_ngrams_dic(grams3)\n    with open(model_file,'w+') as f:\n        f.write('3-grams:\\n')\n        write_values_to_file(f, grams3Dic,  3, prefix_grams_dic=grams2Dic)\n        f.write('2-grams:\\n')\n        write_values_to_file(f, grams2Dic, 2, prefix_grams_dic=grams1Dic )\n        f.write('1-grams:\\n')\n        write_values_to_file(f, grams1Dic, 1 ,total = len(grams1))\n    \n    ",
      "execution_count": 3,
      "outputs": []
    },
    {
      "metadata": {
        "trusted": true
      },
      "cell_type": "code",
      "source": "lm('untitled.txt','1.txt') # Internal - remove before submiting ",
      "execution_count": 4,
      "outputs": []
    },
    {
      "metadata": {},
      "cell_type": "markdown",
      "source": "### Part 2:\nWrite\ta function eval that calculates and\tprints the perplexity of a model running over a\t\ngiven text.\t\n"
    },
    {
      "metadata": {
        "trusted": true
      },
      "cell_type": "code",
      "source": "def get_dics_from_model_file(f):\n    dict3 = {}\n    dict2 = {}\n    dict1 = {}\n    lines = f.readlines()\n    for line in lines:\n        line = line.rstrip('\\n')\n        if line == '3-grams:':\n            i = 3\n            continue\n        elif line == '2-grams:':\n            i = 2\n            continue\n        elif line == '1-grams:':\n            i = 1\n            continue\n        line = line.split('\\t')\n        if (i==3):\n            dict3[line[0]] = float(line[1])\n        elif (i==2):\n            dict2[line[0]] = float(line[1])\n        elif (i==1):\n            dict1[line[0]] = float(line[1])\n    return [dict3, dict2 , dict1]",
      "execution_count": 8,
      "outputs": []
    },
    {
      "metadata": {
        "trusted": true
      },
      "cell_type": "code",
      "source": "def eval(input_file, model_file, weights):\n    with open(model_file, 'r') as f:\n        dict3, dict2, dict1 = get_dics_from_model_file(f)\n    with open(input_file, 'r') as f:\n        grams = n_grams_characters(f.read().lower(), 3)\n        interpolation_dic = {}\n        lambda1, lambda2, lambda3 = weights\n        sum1 = 0\n        for gram in grams:\n            if (gram[2:3] in dict1):\n                sum1 += lambda3*dict1[gram[2:3]]\n            else:\n                sum1 += lambda3*dict1['<unk>'] #bonus\n            if (gram[1:3] in dict2):\n                sum1 += lambda2*dict2[gram[1:3]]\n            if (gram in dict3):\n                sum1 += lambda1*dict3[gram]\n        print(2**(-sum1/len(grams)))\n\n    \n       \n            \n            \n            \n        ",
      "execution_count": 9,
      "outputs": []
    },
    {
      "metadata": {
        "trusted": true
      },
      "cell_type": "code",
      "source": "eval('dor.txt','1.txt',[0.5, 0.4, 0.1]) #delete before submiting",
      "execution_count": 10,
      "outputs": [
        {
          "output_type": "stream",
          "text": "4.598333912460283\n",
          "name": "stdout"
        }
      ]
    },
    {
      "metadata": {},
      "cell_type": "markdown",
      "source": "### Part 3:"
    },
    {
      "metadata": {
        "trusted": true
      },
      "cell_type": "code",
      "source": "import pandas as pd\n",
      "execution_count": null,
      "outputs": []
    },
    {
      "metadata": {
        "trusted": true
      },
      "cell_type": "code",
      "source": "languages = ['en', 'es', 'fr', 'in', 'it', 'nl', 'pt', 'tl']\nfor lan in languages:\n    data = pd.read_csv(lan + '.csv')",
      "execution_count": 11,
      "outputs": [
        {
          "output_type": "stream",
          "text": "en\nes\nfr\nin\nit\nnl\npt\ntl\n",
          "name": "stdout"
        }
      ]
    },
    {
      "metadata": {
        "trusted": true
      },
      "cell_type": "code",
      "source": "",
      "execution_count": null,
      "outputs": []
    }
  ],
  "metadata": {
    "kernelspec": {
      "name": "python36",
      "display_name": "Python 3.6",
      "language": "python"
    },
    "language_info": {
      "mimetype": "text/x-python",
      "nbconvert_exporter": "python",
      "name": "python",
      "pygments_lexer": "ipython3",
      "version": "3.6.6",
      "file_extension": ".py",
      "codemirror_mode": {
        "version": 3,
        "name": "ipython"
      }
    }
  },
  "nbformat": 4,
  "nbformat_minor": 2
}