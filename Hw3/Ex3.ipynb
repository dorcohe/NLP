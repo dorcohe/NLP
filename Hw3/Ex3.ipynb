{
  "cells": [
    {
      "metadata": {
        "collapsed": true
      },
      "cell_type": "markdown",
      "source": "### Assignment 3"
    },
    {
      "metadata": {
        "trusted": true
      },
      "cell_type": "code",
      "source": "# imports\n\nimport matplotlib.pyplot as plt\nimport numpy as np\nfrom gensim.models import Word2Vec\nimport gensim.downloader as api\nfrom sklearn.decomposition import TruncatedSVD\nimport random",
      "execution_count": 29,
      "outputs": []
    },
    {
      "metadata": {},
      "cell_type": "markdown",
      "source": "## Part 1 & 2"
    },
    {
      "metadata": {
        "slideshow": {
          "slide_type": "slide"
        }
      },
      "cell_type": "markdown",
      "source": "I ran the model one by one since it too much time to run them all together (even in a large vm)."
    },
    {
      "metadata": {
        "trusted": true
      },
      "cell_type": "code",
      "source": "def load(model_name):\n    '''\n    Downloading and loading model into memory, as a dictionary of arrays, the keys are the words.\n    '''\n    wv_from_bin = api.load(model_name)\n    vocab = list(wv_from_bin.vocab.keys())\n    print(\"Loaded vocab size %i\" % len(vocab))\n    return wv_from_bin\n",
      "execution_count": 2,
      "outputs": []
    },
    {
      "metadata": {
        "trusted": true
      },
      "cell_type": "code",
      "source": "models_names = [\"fasttext-wiki-news-subwords-300\"]\n#glove-wiki-gigaword-300, \"glove-wiki-gigaword-50\", \"word2vec-google-news-300\", \"glove-twitter-200\", \"fasttext-wiki-news-subwords-300\"]\ncategories = [\"capital-wolrd\", \"currency\", \"city-in-state\", \"family\", \"gram1-adjective-to-adverb\", \"gram2-opposite\", \"gram3-comparative\", \"gram6-nationality-adjective\", \"overall\"]\n\n",
      "execution_count": 25,
      "outputs": []
    },
    {
      "metadata": {
        "trusted": true
      },
      "cell_type": "code",
      "source": "results = {}\nwith open(\"questions-words.txt\") as f:\n        lines = f.readlines()\nfor model_name in models_names:\n    catagory = \"\"\n    correct_answer = 0 \n    counter = 0\n    overall_counter = 0\n    overall_correct_answer = 0\n    print(model_name)\n    model = load(model_name)\n    model_results = {}\n    for line in lines:\n        if \":\" in line:\n            if (catagory != \"\"):\n                model_results[catagory] = correct_answer/counter\n            catagory = line.split()[-1]\n            counter = 0\n            correct_answer = 0\n            continue\n        words = line.split()\n        overall_counter = overall_counter + 1\n        counter = counter + 1\n        if words[0] not in model.vocab or words[1] not in model.vocab or words[2] not in model.vocab:\n            words = line.lower().split()\n            if words[0] not in model.vocab or words[1] not in model.vocab or words[2] not in model.vocab:\n                continue\n        result = model.most_similar(positive=[words[1], words[2]], negative=[words[0]], topn=1)\n        if (result[0][0] == words[3]):\n            correct_answer = correct_answer + 1\n            overall_correct_answer = overall_correct_answer + 1\n    model_results['overall'] = overall_correct_answer/overall_counter\n    results[model_name] = model_results\n        \n        \n        \n            \n        ",
      "execution_count": 26,
      "outputs": [
        {
          "output_type": "stream",
          "text": "fasttext-wiki-news-subwords-300\nLoaded vocab size 999999\n",
          "name": "stdout"
        }
      ]
    },
    {
      "metadata": {
        "trusted": true
      },
      "cell_type": "code",
      "source": "print(results)",
      "execution_count": 27,
      "outputs": [
        {
          "output_type": "stream",
          "text": "{'fasttext-wiki-news-subwords-300': {'city-in-state': 0.8054316984191325, 'gram8-plural': 0.9451951951951952, 'gram7-past-tense': 0.8378205128205128, 'gram5-present-participle': 0.9772727272727273, 'currency': 0.37644341801385683, 'gram4-superlative': 0.9919786096256684, 'capital-common-countries': 0.9841897233201581, 'family': 0.849802371541502, 'overall': 0.8726975030699959, 'gram6-nationality-adjective': 0.9274546591619762, 'gram2-opposite': 0.6071428571428571, 'gram3-comparative': 0.9692192192192193, 'capital-world': 0.9544650751547303, 'gram1-adjective-to-adverb': 0.6965725806451613}}\n",
          "name": "stdout"
        }
      ]
    },
    {
      "metadata": {},
      "cell_type": "markdown",
      "source": "## results\n\n| Model/analogy-set               \t| capital-wolrd \t| currency \t| city-in-state \t| family \t| gram1-adjective-to-adverb \t| gram2-opposite \t| gram3-comparative \t| gram6-nationality-adjective \t| Overall \t|\n|---------------------------------\t|---------------\t|----------\t|---------------\t|--------\t|---------------------------\t|----------------\t|-------------------\t|-----------------------------\t|---------\t|\n| glove-wiki-gigaword-300         \t| 0.9597        \t| 0.158    \t| 0.593         \t| 0.881  \t| 0.225                     \t| 0.2733         \t| 0.881             \t| 0.9255                      \t| 0.717   \t|\n| glove-wiki-gigaword-50          \t| 0.8598        \t| 0.0831   \t| 0.153         \t| 0.6897 \t| 0.684                     \t| 0.0948         \t| 0.518             \t| 0.8599                      \t| 0.4621  \t|\n| word2vec-google-news-300        \t| 0.7913        \t| 0.3510   \t| 0.70895       \t| 0.8458 \t| 0.2852                    \t| 0.4273         \t| 0.9084            \t| 0.8993                      \t| 0.735   \t|\n| glove-twitter-200               \t| 0.609         \t| 0.0196   \t| 0.3563        \t| 0.6778 \t| 0.1169                    \t| 0.2364         \t| 0.742             \t| 0.5884                      \t| 0.5255  \t|\n| fasttext-wiki-news-subwords-300 \t| 0.9544        \t| 0.3764   \t| 0.8054        \t| 0.8498 \t| 0.696                     \t| 0.6071         \t| 0.9692            \t| 0.9274                      \t| 0.8726  \t|"
    },
    {
      "metadata": {},
      "cell_type": "markdown",
      "source": "# part 3:\n\n"
    },
    {
      "metadata": {
        "trusted": true
      },
      "cell_type": "code",
      "source": "model = load(\"glove-wiki-gigaword-50\")",
      "execution_count": null,
      "outputs": []
    },
    {
      "metadata": {
        "trusted": true
      },
      "cell_type": "code",
      "source": "def reduce_dim(model, number_of_vectors=10000, required_words=[\"car\"]):\n    required_words_indexes = []\n    for word in required_words:\n        index = None\n        if word in model.vocab:\n            index = model.vocab[word].index\n        elif word.lower() in model.vocab:\n            index = model.vocab[word].index\n        if (index!=None):\n            required_words_indexes.append(index)\n    requried_matrix = model.vectors[np.array(required_words_indexes)]\n    print(requried_matrix.shape)\n    random_indexes = []\n    while len(random_indexes)<number_of_vectors:\n        x = random.sample(range(model.vectors.shape[0]),1)\n        if x not in required_words_indexes:\n            random_indexes.append(x)\n    rand_matrix = model.vectors[np.array(random_indexes)].\n    print(rand_matrix.shape)\n    matrix = np.array(list(requried_matrix) + list(rand_matrix))\n    print(matrix.shape)\n    svd = TruncatedSVD(n_components=2, algorithm='randomized', n_iter=5, random_state=12,  tol=0.0)\n    v = svd.fit_transform(matrix)\n    return v\n    \n",
      "execution_count": 70,
      "outputs": [
        {
          "output_type": "error",
          "ename": "SyntaxError",
          "evalue": "invalid syntax (<ipython-input-70-16cbfa5e0b63>, line 18)",
          "traceback": [
            "\u001b[0;36m  File \u001b[0;32m\"<ipython-input-70-16cbfa5e0b63>\"\u001b[0;36m, line \u001b[0;32m18\u001b[0m\n\u001b[0;31m    rand_matrix = model.vectors[np.array(random_indexes)].\u001b[0m\n\u001b[0m                                                          ^\u001b[0m\n\u001b[0;31mSyntaxError\u001b[0m\u001b[0;31m:\u001b[0m invalid syntax\n"
          ]
        }
      ]
    },
    {
      "metadata": {
        "trusted": true
      },
      "cell_type": "code",
      "source": "v = reduce_dim(model)",
      "execution_count": 71,
      "outputs": [
        {
          "output_type": "stream",
          "text": "(1, 50)\n(10000, 1, 50)\n(10001,)\n",
          "name": "stdout"
        },
        {
          "output_type": "error",
          "ename": "ValueError",
          "evalue": "setting an array element with a sequence.",
          "traceback": [
            "\u001b[0;31m---------------------------------------------------------------------------\u001b[0m",
            "\u001b[0;31mValueError\u001b[0m                                Traceback (most recent call last)",
            "\u001b[0;32m<ipython-input-71-b3a02bf92d0c>\u001b[0m in \u001b[0;36m<module>\u001b[0;34m()\u001b[0m\n\u001b[0;32m----> 1\u001b[0;31m \u001b[0mv\u001b[0m \u001b[0;34m=\u001b[0m \u001b[0mreduce_dim\u001b[0m\u001b[0;34m(\u001b[0m\u001b[0mmodel\u001b[0m\u001b[0;34m)\u001b[0m\u001b[0;34m\u001b[0m\u001b[0m\n\u001b[0m",
            "\u001b[0;32m<ipython-input-68-7fcf28c3ddcf>\u001b[0m in \u001b[0;36mreduce_dim\u001b[0;34m(model, number_of_vectors, required_words)\u001b[0m\n\u001b[1;32m     21\u001b[0m     \u001b[0mprint\u001b[0m\u001b[0;34m(\u001b[0m\u001b[0mmatrix\u001b[0m\u001b[0;34m.\u001b[0m\u001b[0mshape\u001b[0m\u001b[0;34m)\u001b[0m\u001b[0;34m\u001b[0m\u001b[0m\n\u001b[1;32m     22\u001b[0m     \u001b[0msvd\u001b[0m \u001b[0;34m=\u001b[0m \u001b[0mTruncatedSVD\u001b[0m\u001b[0;34m(\u001b[0m\u001b[0mn_components\u001b[0m\u001b[0;34m=\u001b[0m\u001b[0;36m2\u001b[0m\u001b[0;34m,\u001b[0m \u001b[0malgorithm\u001b[0m\u001b[0;34m=\u001b[0m\u001b[0;34m'randomized'\u001b[0m\u001b[0;34m,\u001b[0m \u001b[0mn_iter\u001b[0m\u001b[0;34m=\u001b[0m\u001b[0;36m5\u001b[0m\u001b[0;34m,\u001b[0m \u001b[0mrandom_state\u001b[0m\u001b[0;34m=\u001b[0m\u001b[0;36m12\u001b[0m\u001b[0;34m,\u001b[0m  \u001b[0mtol\u001b[0m\u001b[0;34m=\u001b[0m\u001b[0;36m0.0\u001b[0m\u001b[0;34m)\u001b[0m\u001b[0;34m\u001b[0m\u001b[0m\n\u001b[0;32m---> 23\u001b[0;31m     \u001b[0mv\u001b[0m \u001b[0;34m=\u001b[0m \u001b[0msvd\u001b[0m\u001b[0;34m.\u001b[0m\u001b[0mfit_transform\u001b[0m\u001b[0;34m(\u001b[0m\u001b[0mmatrix\u001b[0m\u001b[0;34m)\u001b[0m\u001b[0;34m\u001b[0m\u001b[0m\n\u001b[0m\u001b[1;32m     24\u001b[0m     \u001b[0;32mreturn\u001b[0m \u001b[0mv\u001b[0m\u001b[0;34m\u001b[0m\u001b[0m\n\u001b[1;32m     25\u001b[0m \u001b[0;34m\u001b[0m\u001b[0m\n",
            "\u001b[0;32m/anaconda/envs/py35/lib/python3.5/site-packages/sklearn/decomposition/truncated_svd.py\u001b[0m in \u001b[0;36mfit_transform\u001b[0;34m(self, X, y)\u001b[0m\n\u001b[1;32m    157\u001b[0m             \u001b[0mReduced\u001b[0m \u001b[0mversion\u001b[0m \u001b[0mof\u001b[0m \u001b[0mX\u001b[0m\u001b[0;34m.\u001b[0m \u001b[0mThis\u001b[0m \u001b[0mwill\u001b[0m \u001b[0malways\u001b[0m \u001b[0mbe\u001b[0m \u001b[0ma\u001b[0m \u001b[0mdense\u001b[0m \u001b[0marray\u001b[0m\u001b[0;34m.\u001b[0m\u001b[0;34m\u001b[0m\u001b[0m\n\u001b[1;32m    158\u001b[0m         \"\"\"\n\u001b[0;32m--> 159\u001b[0;31m         \u001b[0mX\u001b[0m \u001b[0;34m=\u001b[0m \u001b[0mcheck_array\u001b[0m\u001b[0;34m(\u001b[0m\u001b[0mX\u001b[0m\u001b[0;34m,\u001b[0m \u001b[0maccept_sparse\u001b[0m\u001b[0;34m=\u001b[0m\u001b[0;34m[\u001b[0m\u001b[0;34m'csr'\u001b[0m\u001b[0;34m,\u001b[0m \u001b[0;34m'csc'\u001b[0m\u001b[0;34m]\u001b[0m\u001b[0;34m)\u001b[0m\u001b[0;34m\u001b[0m\u001b[0m\n\u001b[0m\u001b[1;32m    160\u001b[0m         \u001b[0mrandom_state\u001b[0m \u001b[0;34m=\u001b[0m \u001b[0mcheck_random_state\u001b[0m\u001b[0;34m(\u001b[0m\u001b[0mself\u001b[0m\u001b[0;34m.\u001b[0m\u001b[0mrandom_state\u001b[0m\u001b[0;34m)\u001b[0m\u001b[0;34m\u001b[0m\u001b[0m\n\u001b[1;32m    161\u001b[0m \u001b[0;34m\u001b[0m\u001b[0m\n",
            "\u001b[0;32m/anaconda/envs/py35/lib/python3.5/site-packages/sklearn/utils/validation.py\u001b[0m in \u001b[0;36mcheck_array\u001b[0;34m(array, accept_sparse, accept_large_sparse, dtype, order, copy, force_all_finite, ensure_2d, allow_nd, ensure_min_samples, ensure_min_features, warn_on_dtype, estimator)\u001b[0m\n\u001b[1;32m    520\u001b[0m             \u001b[0;32mtry\u001b[0m\u001b[0;34m:\u001b[0m\u001b[0;34m\u001b[0m\u001b[0m\n\u001b[1;32m    521\u001b[0m                 \u001b[0mwarnings\u001b[0m\u001b[0;34m.\u001b[0m\u001b[0msimplefilter\u001b[0m\u001b[0;34m(\u001b[0m\u001b[0;34m'error'\u001b[0m\u001b[0;34m,\u001b[0m \u001b[0mComplexWarning\u001b[0m\u001b[0;34m)\u001b[0m\u001b[0;34m\u001b[0m\u001b[0m\n\u001b[0;32m--> 522\u001b[0;31m                 \u001b[0marray\u001b[0m \u001b[0;34m=\u001b[0m \u001b[0mnp\u001b[0m\u001b[0;34m.\u001b[0m\u001b[0masarray\u001b[0m\u001b[0;34m(\u001b[0m\u001b[0marray\u001b[0m\u001b[0;34m,\u001b[0m \u001b[0mdtype\u001b[0m\u001b[0;34m=\u001b[0m\u001b[0mdtype\u001b[0m\u001b[0;34m,\u001b[0m \u001b[0morder\u001b[0m\u001b[0;34m=\u001b[0m\u001b[0morder\u001b[0m\u001b[0;34m)\u001b[0m\u001b[0;34m\u001b[0m\u001b[0m\n\u001b[0m\u001b[1;32m    523\u001b[0m             \u001b[0;32mexcept\u001b[0m \u001b[0mComplexWarning\u001b[0m\u001b[0;34m:\u001b[0m\u001b[0;34m\u001b[0m\u001b[0m\n\u001b[1;32m    524\u001b[0m                 raise ValueError(\"Complex data not supported\\n\"\n",
            "\u001b[0;32m~/.local/lib/python3.5/site-packages/numpy/core/numeric.py\u001b[0m in \u001b[0;36masarray\u001b[0;34m(a, dtype, order)\u001b[0m\n\u001b[1;32m    536\u001b[0m \u001b[0;34m\u001b[0m\u001b[0m\n\u001b[1;32m    537\u001b[0m     \"\"\"\n\u001b[0;32m--> 538\u001b[0;31m     \u001b[0;32mreturn\u001b[0m \u001b[0marray\u001b[0m\u001b[0;34m(\u001b[0m\u001b[0ma\u001b[0m\u001b[0;34m,\u001b[0m \u001b[0mdtype\u001b[0m\u001b[0;34m,\u001b[0m \u001b[0mcopy\u001b[0m\u001b[0;34m=\u001b[0m\u001b[0;32mFalse\u001b[0m\u001b[0;34m,\u001b[0m \u001b[0morder\u001b[0m\u001b[0;34m=\u001b[0m\u001b[0morder\u001b[0m\u001b[0;34m)\u001b[0m\u001b[0;34m\u001b[0m\u001b[0m\n\u001b[0m\u001b[1;32m    539\u001b[0m \u001b[0;34m\u001b[0m\u001b[0m\n\u001b[1;32m    540\u001b[0m \u001b[0;34m\u001b[0m\u001b[0m\n",
            "\u001b[0;31mValueError\u001b[0m: setting an array element with a sequence."
          ]
        }
      ]
    },
    {
      "metadata": {
        "trusted": true
      },
      "cell_type": "code",
      "source": "",
      "execution_count": null,
      "outputs": []
    }
  ],
  "metadata": {
    "kernelspec": {
      "name": "python3",
      "display_name": "Python 3.5",
      "language": "python"
    },
    "language_info": {
      "version": "3.5.5",
      "codemirror_mode": {
        "version": 3,
        "name": "ipython"
      },
      "file_extension": ".py",
      "name": "python",
      "pygments_lexer": "ipython3",
      "nbconvert_exporter": "python",
      "mimetype": "text/x-python"
    }
  },
  "nbformat": 4,
  "nbformat_minor": 2
}